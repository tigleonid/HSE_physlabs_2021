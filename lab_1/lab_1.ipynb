{
 "cells": [
  {
   "cell_type": "code",
   "execution_count": 1,
   "id": "e132806b",
   "metadata": {},
   "outputs": [],
   "source": [
    "import pandas as pd\n",
    "import matplotlib.pyplot as plt\n",
    "import numpy as np"
   ]
  },
  {
   "cell_type": "code",
   "execution_count": 4,
   "id": "244a50a0",
   "metadata": {},
   "outputs": [
    {
     "name": "stdout",
     "output_type": "stream",
     "text": [
      "    id  color   mass  diameter_1  diameter_2  diameter_3\n",
      "0    1      1  5.760        1.65        1.62        1.66\n",
      "1    2      1  5.580        1.61        1.62        1.62\n",
      "2    3      1  5.353        1.60        1.62        1.62\n",
      "3    4      1  5.629        1.63       16.60        1.65\n",
      "4    5      1  5.170        1.61        1.58        1.61\n",
      "5    6      1  5.746        1.64        1.68        1.63\n",
      "6    7      1  5.127        1.58        1.60        1.59\n",
      "7    8      1  4.992        1.57        1.55        1.57\n",
      "8    9      1  5.705        1.65        1.64        1.62\n",
      "9   10      1  5.578        1.59        1.62        1.60\n",
      "10  11      1  5.572        1.62        1.61        1.60\n",
      "11  12      1  5.413        1.63        1.65        1.62\n",
      "12  13      1  5.776        1.66        1.65        1.67\n",
      "13  14      1  6.071        1.70        1.70        1.69\n",
      "14  15      1  5.263        1.61        1.60        1.63\n",
      "15  16      2  5.653        1.63        1.63        1.61\n",
      "16  17      2  5.425        1.60        1.61        1.60\n",
      "17  18      2  5.595        1.62        1.63        1.64\n",
      "18  19      2  5.821        1.65        1.65        1.66\n",
      "19  20      2  5.518        1.62        1.63        1.63\n",
      "20  21      2  5.146        1.58        1.59        1.59\n",
      "21  22      2  5.594        1.63        1.63        1.64\n",
      "22  23      2  5.388        1.62        1.60        1.60\n",
      "23  24      2  5.470        1.62        1.62        1.62\n",
      "24  25      2  5.538        1.62        1.61        1.62\n",
      "25  26      2  5.912        1.65        1.66        1.65\n",
      "26  27      2  5.523        1.61        1.63        1.62\n",
      "27  28      2  5.226        1.63        1.62        1.62\n",
      "28  29      2  5.686        1.58        1.59        1.60\n",
      "29  30      2  5.177        1.63        1.65        1.65\n",
      "30  31      3  5.745        1.65        1.65        1.66\n",
      "31  32      3  5.814        1.68        1.67        1.67\n",
      "32  33      3  5.363        1.63        1.59        1.60\n",
      "33  34      3  5.366        1.64        1.63        1.62\n",
      "34  35      3  5.195        1.58        1.64        1.57\n",
      "35  36      3  5.514        1.63        1.61        1.62\n",
      "36  37      3  5.397        1.66        1.68        1.65\n",
      "37  38      3  5.809        1.65        1.67        1.67\n",
      "38  39      3  5.515        1.63        1.63        1.62\n",
      "39  40      3  5.255        1.62        1.58        1.60\n",
      "40  41      3  5.204        1.60        1.62        1.60\n",
      "41  42      3  5.365        1.63        1.60        1.59\n",
      "42  43      3  5.509        1.62        1.63        1.61\n",
      "43  44      3  5.144        1.57        1.56        1.59\n",
      "44  45      3  5.166        1.58        1.60        1.60\n",
      "45  46      4  5.626        1.62        1.62        1.61\n",
      "46  47      4  5.509        1.60        1.60        1.59\n",
      "47  48      4  5.618        1.61        1.61        1.61\n",
      "48  49      4  5.399        1.58        1.58        1.58\n",
      "49  50      4  5.472        1.59        1.55        1.60\n",
      "50  51      4  5.078        1.59        1.59        1.56\n",
      "51  52      4  5.559        1.61        1.62        1.60\n",
      "52  53      4  5.326        1.60        1.60        1.59\n",
      "53  54      4  5.108        1.58        1.58        1.58\n",
      "54  55      4  5.393        1.60        1.60        1.60\n",
      "55  56      4  5.757        1.65        1.64        1.65\n",
      "56  57      4  5.500        1.60        1.60        1.60\n",
      "57  58      4  5.332        1.59        1.60        1.60\n",
      "58  59      4  5.556        1.62        1.61        1.62\n",
      "59  60      4  5.377        1.60        1.60        1.59\n"
     ]
    },
    {
     "data": {
      "image/png": "[encoded data removed]",
      "text/plain": [
       "<Figure size 432x288 with 1 Axes>"
      ]
     },
     "metadata": {
      "needs_background": "light"
     },
     "output_type": "display_data"
    }
   ],
   "source": [
    "df = pd.read_csv(\"data_1.csv\")\n",
    "print(df)\n",
    "plt.hist(df[df[\"color\"] == 1][\"mass\"], density=True, bins=30)\n",
    "plt.ylabel('Probability')\n",
    "plt.xlabel('Data')\n",
    "plt.show()"
   ]
  },
  {
   "cell_type": "markdown",
   "id": "d52cac87",
   "metadata": {},
   "source": [
    "$\\sum$\n",
    "\n"
   ]
  },
  {
   "cell_type": "code",
   "execution_count": null,
   "id": "fbbcce21",
   "metadata": {},
   "outputs": [],
   "source": []
  }
 ],
 "metadata": {
  "kernelspec": {
   "display_name": "Python 3 (ipykernel)",
   "language": "python",
   "name": "python3"
  },
  "language_info": {
   "codemirror_mode": {
    "name": "ipython",
    "version": 3
   },
   "file_extension": ".py",
   "mimetype": "text/x-python",
   "name": "python",
   "nbconvert_exporter": "python",
   "pygments_lexer": "ipython3",
   "version": "3.9.6"
  }
 },
 "nbformat": 4,
 "nbformat_minor": 5
}
