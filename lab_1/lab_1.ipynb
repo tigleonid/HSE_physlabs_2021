{
 "cells": [
  {
   "cell_type": "code",
   "execution_count": 1,
   "id": "e132806b",
   "metadata": {},
   "outputs": [],
   "source": [
    "import pandas as pd\n",
    "import matplotlib.pyplot as plt\n",
    "import numpy as np"
   ]
  },
  {
   "cell_type": "code",
   "execution_count": 2,
   "id": "244a50a0",
   "metadata": {},
   "outputs": [
    {
     "name": "stdout",
     "output_type": "stream",
     "text": [
      "0     1\n",
      "1     1\n",
      "2     1\n",
      "3     1\n",
      "4     1\n",
      "5     1\n",
      "6     1\n",
      "7     1\n",
      "8     1\n",
      "9     1\n",
      "10    1\n",
      "11    1\n",
      "12    1\n",
      "13    1\n",
      "14    1\n",
      "15    2\n",
      "16    2\n",
      "17    2\n",
      "18    2\n",
      "19    2\n",
      "20    2\n",
      "21    2\n",
      "22    2\n",
      "23    2\n",
      "24    2\n",
      "25    2\n",
      "26    2\n",
      "27    2\n",
      "28    2\n",
      "29    2\n",
      "30    3\n",
      "31    3\n",
      "32    3\n",
      "33    3\n",
      "34    3\n",
      "35    3\n",
      "36    3\n",
      "37    3\n",
      "38    3\n",
      "39    3\n",
      "40    3\n",
      "41    3\n",
      "42    3\n",
      "43    3\n",
      "44    3\n",
      "45    4\n",
      "46    4\n",
      "47    4\n",
      "48    4\n",
      "49    4\n",
      "50    4\n",
      "51    4\n",
      "52    4\n",
      "53    4\n",
      "54    4\n",
      "55    4\n",
      "56    4\n",
      "57    4\n",
      "58    4\n",
      "59    4\n",
      "Name: color, dtype: int64\n"
     ]
    },
    {
     "data": {
      "image/png": "[encoded data removed]",
      "text/plain": [
       "<Figure size 432x288 with 1 Axes>"
      ]
     },
     "metadata": {
      "needs_background": "light"
     },
     "output_type": "display_data"
    }
   ],
   "source": [
    "df = pd.read_csv(\"data_1.csv\")\n",
    "print(df[\"color\"])\n",
    "plt.hist(df[df[\"color\"] == 1][\"mass\"], density=True, bins=30)\n",
    "plt.ylabel('Probability')\n",
    "plt.xlabel('Data')\n",
    "plt.show()"
   ]
  },
  {
   "cell_type": "markdown",
   "id": "d52cac87",
   "metadata": {},
   "source": [
    "$\\sum$"
   ]
  },
  {
   "cell_type": "code",
   "execution_count": null,
   "id": "fbbcce21",
   "metadata": {},
   "outputs": [],
   "source": []
  }
 ],
 "metadata": {
  "kernelspec": {
   "display_name": "Python 3 (ipykernel)",
   "language": "python",
   "name": "python3"
  },
  "language_info": {
   "codemirror_mode": {
    "name": "ipython",
    "version": 3
   },
   "file_extension": ".py",
   "mimetype": "text/x-python",
   "name": "python",
   "nbconvert_exporter": "python",
   "pygments_lexer": "ipython3",
   "version": "3.9.6"
  }
 },
 "nbformat": 4,
 "nbformat_minor": 5
}
