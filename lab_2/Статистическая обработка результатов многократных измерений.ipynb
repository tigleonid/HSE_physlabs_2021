{
 "cells": [
  {
   "cell_type": "markdown",
   "id": "f8a646e1",
   "metadata": {},
   "source": [
    "Выполнили: Тигин Леонид, Коренев Илья, Клевцов Александр"
   ]
  },
  {
   "cell_type": "markdown",
   "id": "88548c02",
   "metadata": {},
   "source": [
    "Цель работы: применение методов статистической обработки экспериментальных\n",
    "данных при измерении сопротивлений."
   ]
  },
  {
   "cell_type": "markdown",
   "id": "a898c2a9",
   "metadata": {},
   "source": [
    "Используем \n",
    "- pandas для анализа снятых результатов\n",
    "- matplotlib для построения гистограмм "
   ]
  },
  {
   "cell_type": "code",
   "execution_count": 2,
   "id": "7ad8e657",
   "metadata": {},
   "outputs": [],
   "source": [
    "import pandas as pd\n",
    "import matplotlib.pyplot as plt\n",
    "import numpy as np\n",
    "import seaborn as sns\n",
    "from scipy.stats import norm"
   ]
  },
  {
   "cell_type": "markdown",
   "id": "d32c0181",
   "metadata": {},
   "source": [
    "Получили табличку измерений сопртивления резисторов."
   ]
  },
  {
   "cell_type": "code",
   "execution_count": 3,
   "id": "a8cc5ee1",
   "metadata": {
    "scrolled": true
   },
   "outputs": [
    {
     "data": {
      "text/html": [
       "<div>\n",
       "<style scoped>\n",
       "    .dataframe tbody tr th:only-of-type {\n",
       "        vertical-align: middle;\n",
       "    }\n",
       "\n",
       "    .dataframe tbody tr th {\n",
       "        vertical-align: top;\n",
       "    }\n",
       "\n",
       "    .dataframe thead th {\n",
       "        text-align: right;\n",
       "    }\n",
       "</style>\n",
       "<table border=\"1\" class=\"dataframe\">\n",
       "  <thead>\n",
       "    <tr style=\"text-align: right;\">\n",
       "      <th></th>\n",
       "      <th>R</th>\n",
       "    </tr>\n",
       "  </thead>\n",
       "  <tbody>\n",
       "    <tr>\n",
       "      <th>0</th>\n",
       "      <td>418.56</td>\n",
       "    </tr>\n",
       "    <tr>\n",
       "      <th>1</th>\n",
       "      <td>420.90</td>\n",
       "    </tr>\n",
       "    <tr>\n",
       "      <th>2</th>\n",
       "      <td>420.70</td>\n",
       "    </tr>\n",
       "    <tr>\n",
       "      <th>3</th>\n",
       "      <td>421.14</td>\n",
       "    </tr>\n",
       "    <tr>\n",
       "      <th>4</th>\n",
       "      <td>421.35</td>\n",
       "    </tr>\n",
       "    <tr>\n",
       "      <th>...</th>\n",
       "      <td>...</td>\n",
       "    </tr>\n",
       "    <tr>\n",
       "      <th>146</th>\n",
       "      <td>420.02</td>\n",
       "    </tr>\n",
       "    <tr>\n",
       "      <th>147</th>\n",
       "      <td>421.89</td>\n",
       "    </tr>\n",
       "    <tr>\n",
       "      <th>148</th>\n",
       "      <td>420.65</td>\n",
       "    </tr>\n",
       "    <tr>\n",
       "      <th>149</th>\n",
       "      <td>421.78</td>\n",
       "    </tr>\n",
       "    <tr>\n",
       "      <th>150</th>\n",
       "      <td>421.54</td>\n",
       "    </tr>\n",
       "  </tbody>\n",
       "</table>\n",
       "<p>151 rows × 1 columns</p>\n",
       "</div>"
      ],
      "text/plain": [
       "          R\n",
       "0    418.56\n",
       "1    420.90\n",
       "2    420.70\n",
       "3    421.14\n",
       "4    421.35\n",
       "..      ...\n",
       "146  420.02\n",
       "147  421.89\n",
       "148  420.65\n",
       "149  421.78\n",
       "150  421.54\n",
       "\n",
       "[151 rows x 1 columns]"
      ]
     },
     "execution_count": 3,
     "metadata": {},
     "output_type": "execute_result"
    }
   ],
   "source": [
    "df = pd.read_csv(\"lab_2.csv\")\n",
    "df"
   ]
  },
  {
   "cell_type": "markdown",
   "id": "6618660c",
   "metadata": {},
   "source": [
    "Найдем среднее, максимальное и минимальные значенения. "
   ]
  },
  {
   "cell_type": "code",
   "execution_count": 4,
   "id": "d9c9b805",
   "metadata": {},
   "outputs": [
    {
     "data": {
      "text/plain": [
       "(R    421.111192\n",
       " dtype: float64,\n",
       " R    425.12\n",
       " dtype: float64,\n",
       " R    417.21\n",
       " dtype: float64)"
      ]
     },
     "execution_count": 4,
     "metadata": {},
     "output_type": "execute_result"
    }
   ],
   "source": [
    "R = df.mean()\n",
    "R_max = df.max()\n",
    "R_min = df.min()\n",
    "R, R_max, R_misn "
   ]
  },
  {
   "cell_type": "markdown",
   "id": "07cada8b",
   "metadata": {},
   "source": [
    "Получаем, что:\n",
    "$\\mathrm{\\newline \\langle R \\rangle = 421.11 \\ Ом \n",
    " \\newline R_{max} = 425.12 \\ Ом \n",
    " \\newline R_{min} = 417.12 \\ Ом}$"
   ]
  },
  {
   "cell_type": "markdown",
   "id": "2f14b471",
   "metadata": {},
   "source": [
    "Построим гистограмму для m = 10 "
   ]
  },
  {
   "cell_type": "code",
   "execution_count": 5,
   "id": "e92da678",
   "metadata": {},
   "outputs": [
    {
     "data": {
      "text/plain": [
       "array([[<AxesSubplot:title={'center':'R'}>]], dtype=object)"
      ]
     },
     "execution_count": 5,
     "metadata": {},
     "output_type": "execute_result"
    },
    {
     "data": {
      "image/png": "[encoded data removed]",
      "text/plain": [
       "<Figure size 432x288 with 1 Axes>"
      ]
     },
     "metadata": {
      "needs_background": "light"
     },
     "output_type": "display_data"
    }
   ],
   "source": [
    "df.hist(bins=10)"
   ]
  },
  {
   "cell_type": "markdown",
   "id": "4902abf2",
   "metadata": {},
   "source": [
    "Теперь построим гистограмму для m = 20"
   ]
  },
  {
   "cell_type": "code",
   "execution_count": 6,
   "id": "09f6788f",
   "metadata": {},
   "outputs": [
    {
     "data": {
      "text/plain": [
       "array([[<AxesSubplot:title={'center':'R'}>]], dtype=object)"
      ]
     },
     "execution_count": 6,
     "metadata": {},
     "output_type": "execute_result"
    },
    {
     "data": {
      "image/png": "[encoded data removed]",
      "text/plain": [
       "<Figure size 432x288 with 1 Axes>"
      ]
     },
     "metadata": {
      "needs_background": "light"
     },
     "output_type": "display_data"
    }
   ],
   "source": [
    "df.hist(bins=20)"
   ]
  },
  {
   "cell_type": "code",
   "execution_count": 7,
   "id": "54956066",
   "metadata": {},
   "outputs": [
    {
     "data": {
      "text/plain": [
       "1.3773575464627072"
      ]
     },
     "execution_count": 7,
     "metadata": {},
     "output_type": "execute_result"
    }
   ],
   "source": [
    "sigma = float(df.std(ddof=0))\n",
    "sigma"
   ]
  },
  {
   "cell_type": "markdown",
   "id": "79133c0b",
   "metadata": {},
   "source": [
    "$\\sigma = 1.3773575464627072$"
   ]
  },
  {
   "cell_type": "code",
   "execution_count": 8,
   "id": "e5d541c1",
   "metadata": {},
   "outputs": [],
   "source": [
    "mean_r = float(df.mean())"
   ]
  },
  {
   "cell_type": "markdown",
   "id": "d24c977b",
   "metadata": {},
   "source": [
    "Тепер соединим две гистограммы и нанесем построить функцию\n",
    "распределения Гаусса:\n",
    "$\\frac{1}{\\sigma\\sqrt{2\\pi}}\n",
    "   \\exp\\left(-\\frac{(R-\\langle R \\rangle)^2}{2\\sigma^2}\\right)$"
   ]
  },
  {
   "cell_type": "code",
   "execution_count": 24,
   "id": "8b8cdfa4",
   "metadata": {
    "scrolled": true
   },
   "outputs": [
    {
     "data": {
      "image/png": "[encoded data removed]",
      "text/plain": [
       "<Figure size 432x288 with 1 Axes>"
      ]
     },
     "metadata": {
      "needs_background": "light"
     },
     "output_type": "display_data"
    }
   ],
   "source": [
    "plt.hist(df, bins=10, label=\"m=10\", rwidth=0.85)\n",
    "plt.hist(df, bins=20, label=\"m=20\",rwidth=0.85)\n",
    "rv = norm(mean_r,sigma)\n",
    "x = np.linspace(df.min(),df.max(), 100)\n",
    "plt.plot(x, 80*rv.pdf(x), 'k', lw=2, label='Gauss')\n",
    "xposition = [mean_r - 2*sigma, mean_r - sigma, mean_r, mean_r + sigma, mean_r + 2*sigma]\n",
    "for xc in xposition:\n",
    "    plt.axvline(x=xc, color='k', linestyle='--')\n",
    "plt.legend()\n",
    "plt.show()"
   ]
  },
  {
   "cell_type": "code",
   "execution_count": 10,
   "id": "0c401e69",
   "metadata": {},
   "outputs": [
    {
     "data": {
      "text/plain": [
       "[418.3564769600547,\n",
       " 419.73383450651744,\n",
       " 421.11119205298013,\n",
       " 422.4885495994428,\n",
       " 423.86590714590557]"
      ]
     },
     "execution_count": 10,
     "metadata": {},
     "output_type": "execute_result"
    }
   ],
   "source": [
    "xposition"
   ]
  },
  {
   "cell_type": "code",
   "execution_count": 25,
   "id": "6067ff50",
   "metadata": {},
   "outputs": [
    {
     "data": {
      "text/plain": [
       "0.8013245033112583"
      ]
     },
     "execution_count": 25,
     "metadata": {},
     "output_type": "execute_result"
    }
   ],
   "source": [
    "count = 0 \n",
    "for index, row in df.iterrows():\n",
    "    if (int(row['R']) > mean_r - sigma and int(row['R'] > mean_r) + sigma):\n",
    "        count += 1\n",
    "count/151"
   ]
  },
  {
   "cell_type": "code",
   "execution_count": 26,
   "id": "f89a140c",
   "metadata": {},
   "outputs": [
    {
     "data": {
      "text/plain": [
       "0.9337748344370861"
      ]
     },
     "execution_count": 26,
     "metadata": {},
     "output_type": "execute_result"
    }
   ],
   "source": [
    "count = 0 \n",
    "for index, row in df.iterrows():\n",
    "    if (int(row['R']) > mean_r - 2*sigma and int(row['R'] > 2*mean_r) + sigma):\n",
    "        count += 1\n",
    "count/151"
   ]
  },
  {
   "cell_type": "markdown",
   "id": "5d7b3cce",
   "metadata": {},
   "source": [
    "Доля результатов, попавших в интервал от \n",
    "$\\newline \\langle R \\rangle - \\sigma$ до $\\newline \\langle R \\rangle + \\sigma$ равна 0.80"
   ]
  },
  {
   "cell_type": "markdown",
   "id": "cef914be",
   "metadata": {},
   "source": [
    "Доля результатов, попавших в интервал от \n",
    "$\\newline \\langle R \\rangle - 2\\sigma$ до $\\newline \\langle R \\rangle + 2\\sigma$ равна 0.93"
   ]
  },
  {
   "cell_type": "code",
   "execution_count": 30,
   "id": "ef9f52a9",
   "metadata": {},
   "outputs": [
    {
     "data": {
      "text/plain": [
       "0.004591191821542357"
      ]
     },
     "execution_count": 30,
     "metadata": {},
     "output_type": "execute_result"
    }
   ],
   "source": [
    "sigma_mean = sigma / 150*(0.5)\n",
    "sigma_mean "
   ]
  },
  {
   "cell_type": "code",
   "execution_count": 31,
   "id": "fb9735f8",
   "metadata": {},
   "outputs": [
    {
     "data": {
      "text/plain": [
       "1.3773575464627072"
      ]
     },
     "execution_count": 31,
     "metadata": {},
     "output_type": "execute_result"
    }
   ],
   "source": [
    "sigma"
   ]
  },
  {
   "cell_type": "code",
   "execution_count": 37,
   "id": "dc518397",
   "metadata": {},
   "outputs": [
    {
     "data": {
      "text/plain": [
       "0.2781456953642384"
      ]
     },
     "execution_count": 37,
     "metadata": {},
     "output_type": "execute_result"
    }
   ],
   "source": [
    "count = 0 \n",
    "for index, row in df.iterrows():\n",
    "    if (int(row['R']) > mean_r - sigma_mean and int(row['R'] > mean_r) + sigma_mean):\n",
    "        count += 1\n",
    "count/151"
   ]
  },
  {
   "cell_type": "code",
   "execution_count": null,
   "id": "d2aa85b9",
   "metadata": {},
   "outputs": [],
   "source": []
  },
  {
   "cell_type": "code",
   "execution_count": null,
   "id": "242112f5",
   "metadata": {},
   "outputs": [],
   "source": []
  },
  {
   "cell_type": "code",
   "execution_count": null,
   "id": "e60fcbd6",
   "metadata": {},
   "outputs": [],
   "source": []
  }
 ],
 "metadata": {
  "kernelspec": {
   "display_name": "Python 3 (ipykernel)",
   "language": "python",
   "name": "python3"
  },
  "language_info": {
   "codemirror_mode": {
    "name": "ipython",
    "version": 3
   },
   "file_extension": ".py",
   "mimetype": "text/x-python",
   "name": "python",
   "nbconvert_exporter": "python",
   "pygments_lexer": "ipython3",
   "version": "3.9.6"
  }
 },
 "nbformat": 4,
 "nbformat_minor": 5
}
